{
 "cells": [
  {
   "cell_type": "code",
   "execution_count": 1,
   "id": "7078a463",
   "metadata": {},
   "outputs": [],
   "source": [
    "import numpy as np"
   ]
  },
  {
   "cell_type": "code",
   "execution_count": null,
   "id": "86e10726",
   "metadata": {},
   "outputs": [],
   "source": [
    "def relu_fn(x):\n",
    "    return np.maximum(0,x)"
   ]
  },
  {
   "cell_type": "code",
   "execution_count": 87,
   "id": "8f6943bf",
   "metadata": {},
   "outputs": [],
   "source": [
    "class linearlayer:\n",
    "    def __init__(self,num_inputs,num_out):\n",
    "        self.W=np.random.randn(num_out,num_inputs)\n",
    "        self.b=np.random.randn(num_out,1)\n",
    "    def forward(self,x):\n",
    "        y = np.matmul(self.W,x) + self.b\n",
    "        return relu_fn(y)\n",
    "    "
   ]
  },
  {
   "cell_type": "code",
   "execution_count": 88,
   "id": "3eaa7635",
   "metadata": {},
   "outputs": [],
   "source": [
    "l1=linearlayer(15,32)\n",
    "l2=linearlayer(32,16)\n",
    "l3=linearlayer(16,5)\n",
    "l4=linearlayer(5,43)"
   ]
  },
  {
   "cell_type": "code",
   "execution_count": null,
   "id": "86159fe7",
   "metadata": {},
   "outputs": [],
   "source": [
    "[15,32,16,5,43]"
   ]
  },
  {
   "cell_type": "code",
   "execution_count": null,
   "id": "ac8b3af0",
   "metadata": {},
   "outputs": [],
   "source": []
  },
  {
   "cell_type": "code",
   "execution_count": null,
   "id": "61655512",
   "metadata": {},
   "outputs": [],
   "source": [
    "class linearstack:\n",
    "    def __init__(self,x,num_layers,neurons_ls): # including input\n",
    "        self.num_layers=num_layers\n",
    "        self.layer_list=[]\n",
    "        self.layer_list.append(x)\n",
    "        for i in range(num_layers):\n",
    "            layer=linearlayer(neurons_ls[i],neurons_ls[i+1])\n",
    "            self.layer_list.append(layer)\n",
    "            \n",
    "        self.W=np.random.randn(num_out,num_inputs)\n",
    "        self.b=np.random.randn(num_out,1)\n",
    "    \n",
    "    def forward(self,x):\n",
    "        for l in range(num_layers):\n",
    "            \n",
    "        y = np.matmul(self.W,x) + self.b\n",
    "        return relu_fn(y)"
   ]
  },
  {
   "cell_type": "code",
   "execution_count": 89,
   "id": "0ba8e0b7",
   "metadata": {},
   "outputs": [
    {
     "data": {
      "text/plain": [
       "array([[-0.67947096],\n",
       "       [-0.25700987],\n",
       "       [-0.38671855],\n",
       "       [-0.04299788],\n",
       "       [ 0.15773666],\n",
       "       [-0.5561626 ],\n",
       "       [-1.57224943],\n",
       "       [ 0.48155163],\n",
       "       [-0.81776704],\n",
       "       [-0.30049644],\n",
       "       [ 1.24014588],\n",
       "       [ 0.62151988],\n",
       "       [ 0.1709297 ],\n",
       "       [ 0.35213106],\n",
       "       [ 0.67827644]])"
      ]
     },
     "execution_count": 89,
     "metadata": {},
     "output_type": "execute_result"
    }
   ],
   "source": [
    "x1=np.random.randn(15,1)\n",
    "x1"
   ]
  },
  {
   "cell_type": "code",
   "execution_count": null,
   "id": "3e6c3dfd",
   "metadata": {},
   "outputs": [],
   "source": []
  },
  {
   "cell_type": "code",
   "execution_count": 90,
   "id": "e157dae5",
   "metadata": {},
   "outputs": [
    {
     "data": {
      "text/plain": [
       "array([[ 2.83845994],\n",
       "       [ 2.75566124],\n",
       "       [ 2.92975863],\n",
       "       [ 1.16589506],\n",
       "       [ 3.55995118],\n",
       "       [ 2.4261289 ],\n",
       "       [ 2.75721641],\n",
       "       [-0.22884416],\n",
       "       [-1.52941818],\n",
       "       [-1.04203315],\n",
       "       [ 2.83784068],\n",
       "       [-0.4556867 ],\n",
       "       [ 0.11988789],\n",
       "       [ 3.66156876],\n",
       "       [ 0.34563803],\n",
       "       [-1.45791831],\n",
       "       [ 1.82742442],\n",
       "       [ 3.76503461],\n",
       "       [-1.0418473 ],\n",
       "       [-0.61665977],\n",
       "       [-0.48643375],\n",
       "       [ 4.47480222],\n",
       "       [-1.48866651],\n",
       "       [ 1.00297819],\n",
       "       [ 1.06654455],\n",
       "       [ 3.20440293],\n",
       "       [ 0.94037583],\n",
       "       [ 1.30380802],\n",
       "       [ 7.74421507],\n",
       "       [-1.4227723 ],\n",
       "       [-0.48304347],\n",
       "       [-0.17919592]])"
      ]
     },
     "execution_count": 90,
     "metadata": {},
     "output_type": "execute_result"
    }
   ],
   "source": [
    "l1.forward(x1)+np.random.randn(32,1)"
   ]
  },
  {
   "cell_type": "code",
   "execution_count": 68,
   "id": "00e12012",
   "metadata": {},
   "outputs": [
    {
     "data": {
      "text/plain": [
       "array([[-1.87482066],\n",
       "       [ 0.4452625 ],\n",
       "       [-1.04178834],\n",
       "       [-0.95971463],\n",
       "       [ 1.17437293],\n",
       "       [-0.66546065],\n",
       "       [-1.52756373],\n",
       "       [ 1.08298446],\n",
       "       [ 1.13832659],\n",
       "       [-1.39470852],\n",
       "       [ 0.30124511],\n",
       "       [ 1.16703752],\n",
       "       [ 0.30794076],\n",
       "       [-2.46781805],\n",
       "       [ 1.27692264]])"
      ]
     },
     "execution_count": 68,
     "metadata": {},
     "output_type": "execute_result"
    }
   ],
   "source": [
    "np.matmul(np.zeros((15,12)),np.ones((12,1)))+x1"
   ]
  },
  {
   "cell_type": "code",
   "execution_count": 56,
   "id": "83e1781b",
   "metadata": {},
   "outputs": [
    {
     "data": {
      "text/plain": [
       "array([[1., 1., 1., 1., 1., 1., 1., 1., 1., 1., 1., 1.],\n",
       "       [1., 1., 1., 1., 1., 1., 1., 1., 1., 1., 1., 1.],\n",
       "       [1., 1., 1., 1., 1., 1., 1., 1., 1., 1., 1., 1.],\n",
       "       [1., 1., 1., 1., 1., 1., 1., 1., 1., 1., 1., 1.],\n",
       "       [1., 1., 1., 1., 1., 1., 1., 1., 1., 1., 1., 1.],\n",
       "       [1., 1., 1., 1., 1., 1., 1., 1., 1., 1., 1., 1.],\n",
       "       [1., 1., 1., 1., 1., 1., 1., 1., 1., 1., 1., 1.],\n",
       "       [1., 1., 1., 1., 1., 1., 1., 1., 1., 1., 1., 1.],\n",
       "       [1., 1., 1., 1., 1., 1., 1., 1., 1., 1., 1., 1.],\n",
       "       [1., 1., 1., 1., 1., 1., 1., 1., 1., 1., 1., 1.],\n",
       "       [1., 1., 1., 1., 1., 1., 1., 1., 1., 1., 1., 1.],\n",
       "       [1., 1., 1., 1., 1., 1., 1., 1., 1., 1., 1., 1.],\n",
       "       [1., 1., 1., 1., 1., 1., 1., 1., 1., 1., 1., 1.],\n",
       "       [1., 1., 1., 1., 1., 1., 1., 1., 1., 1., 1., 1.],\n",
       "       [1., 1., 1., 1., 1., 1., 1., 1., 1., 1., 1., 1.]])"
      ]
     },
     "execution_count": 56,
     "metadata": {},
     "output_type": "execute_result"
    }
   ],
   "source": [
    "np.ones((15,1))+np.zeros((15,12))"
   ]
  },
  {
   "cell_type": "code",
   "execution_count": 17,
   "id": "23d81afb",
   "metadata": {},
   "outputs": [
    {
     "data": {
      "text/plain": [
       "array([1.96011396e+00, 0.00000000e+00, 1.16946440e-03, 0.00000000e+00])"
      ]
     },
     "execution_count": 17,
     "metadata": {},
     "output_type": "execute_result"
    }
   ],
   "source": [
    "relu_fn(x1)"
   ]
  },
  {
   "cell_type": "code",
   "execution_count": null,
   "id": "56c486e2",
   "metadata": {},
   "outputs": [],
   "source": []
  }
 ],
 "metadata": {
  "kernelspec": {
   "display_name": "Python 3 (ipykernel)",
   "language": "python",
   "name": "python3"
  },
  "language_info": {
   "codemirror_mode": {
    "name": "ipython",
    "version": 3
   },
   "file_extension": ".py",
   "mimetype": "text/x-python",
   "name": "python",
   "nbconvert_exporter": "python",
   "pygments_lexer": "ipython3",
   "version": "3.9.7"
  }
 },
 "nbformat": 4,
 "nbformat_minor": 5
}
